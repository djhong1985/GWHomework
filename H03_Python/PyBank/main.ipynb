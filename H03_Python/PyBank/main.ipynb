{
 "cells": [
  {
   "cell_type": "code",
   "execution_count": 1,
   "metadata": {},
   "outputs": [],
   "source": [
    "import csv\n",
    "import os"
   ]
  },
  {
   "cell_type": "code",
   "execution_count": 2,
   "metadata": {},
   "outputs": [],
   "source": [
    "file = 'Resources/budget_data.csv'"
   ]
  },
  {
   "cell_type": "code",
   "execution_count": 3,
   "metadata": {},
   "outputs": [],
   "source": [
    "totmo = 0\n",
    "total = 0\n",
    "old = 0\n",
    "delta = []"
   ]
  },
  {
   "cell_type": "code",
   "execution_count": 4,
   "metadata": {},
   "outputs": [],
   "source": [
    "with open(file, 'r') as csvfile:\n",
    "    csvreader = csv.reader(csvfile, delimiter=\",\")\n",
    "    firstrow = next(csvreader)\n",
    "    totmo = sum(1 for row in csvreader)\n",
    "    \n",
    "with open(file, 'r') as csvfile:\n",
    "    csvreader = csv.reader(csvfile, delimiter=\",\")\n",
    "    first_row = next(csvreader)\n",
    "    for row in csvreader:\n",
    "        total = total + int(row[1])   "
   ]
  },
  {
   "cell_type": "code",
   "execution_count": 5,
   "metadata": {},
   "outputs": [
    {
     "data": {
      "text/plain": [
       "38382578"
      ]
     },
     "execution_count": 5,
     "metadata": {},
     "output_type": "execute_result"
    }
   ],
   "source": [
    "total"
   ]
  },
  {
   "cell_type": "code",
   "execution_count": 6,
   "metadata": {},
   "outputs": [],
   "source": [
    "with open(file, 'r') as csvfile:\n",
    "    csvreader = csv.reader(csvfile, delimiter=\",\")\n",
    "    first_row = next(csvreader)\n",
    "    rows = list(csvreader)"
   ]
  },
  {
   "cell_type": "code",
   "execution_count": 7,
   "metadata": {
    "scrolled": true
   },
   "outputs": [],
   "source": [
    "nom = int(row[1]) - int(rows[0][1]) \n",
    "denom = totmo -1\n",
    "avgch = round(nom/denom,2)"
   ]
  },
  {
   "cell_type": "code",
   "execution_count": 8,
   "metadata": {},
   "outputs": [],
   "source": [
    "date = []\n",
    "prof = []\n",
    "chg = []\n",
    "\n",
    "with open(file, 'r') as csvfile:\n",
    "    csvreader = csv.reader(csvfile, delimiter=\",\")\n",
    "    first_row = next(csvreader)\n",
    "    for row in csvreader:\n",
    "        date.append(row[0])\n",
    "        prof.append(row[1])"
   ]
  },
  {
   "cell_type": "code",
   "execution_count": 9,
   "metadata": {},
   "outputs": [],
   "source": [
    "with open(file, 'r') as csvfile:\n",
    "    csvreader = csv.reader(csvfile, delimiter=\",\")\n",
    "    first_row = next(csvreader)                 \n",
    "    for i in range(1,len(prof)):\n",
    "        chg.append(int(prof[i]) - int(prof[i-1]))\n",
    "\n",
    "maxamount = max(chg)\n",
    "minchg = min(chg)\n",
    "maxamtdate = str(date[chg.index(max(chg))])\n",
    "minamtdate = str(date[chg.index(min(chg))])"
   ]
  },
  {
   "cell_type": "code",
   "execution_count": 10,
   "metadata": {},
   "outputs": [
    {
     "name": "stdout",
     "output_type": "stream",
     "text": [
      "  Financial Analysis\n",
      "----------------------\n",
      "Total Months: 86\n",
      "Total: $38382578\n",
      "Average Change: $-2315.12\n",
      "Greatest Increase in Profits: $Jan-2012 ($1926159)\n",
      "Greatest Decrease in Profits: $Aug-2013 ($-2196167)\n"
     ]
    }
   ],
   "source": [
    "print('  Financial Analysis')\n",
    "print('----------------------')\n",
    "print('Total Months: ' + str(totmo))\n",
    "print('Total: ' +'$'+ str(total) )\n",
    "print('Average Change: '+ '$' + str(avgch))\n",
    "print('Greatest Increase in Profits: ' + '$' + str(maxamtdate) + ' ($' + str(maxamount) + ')')\n",
    "print('Greatest Decrease in Profits: ' + '$' + str(minamtdate) + ' ($' + str(minchg) + ')')"
   ]
  },
  {
   "cell_type": "code",
   "execution_count": null,
   "metadata": {},
   "outputs": [],
   "source": [
    "# Financial Analysis\n",
    "#   ----------------------------\n",
    "#   Total Months: 86\n",
    "#   Total: $38382578\n",
    "#   Average  Change: $-2315.12\n",
    "#   Greatest Increase in Profits: Feb-2012 ($1926159)\n",
    "#   Greatest Decrease in Profits: Sep-2013 ($-2196167)\n",
    "\n",
    "# print the analysis to the terminal\n",
    "# export a text file with the results."
   ]
  },
  {
   "cell_type": "code",
   "execution_count": 12,
   "metadata": {},
   "outputs": [],
   "source": [
    "file = open('PyBank.txt','w') \n",
    " \n",
    "file.write('  Financial Analysis\\n')\n",
    "file.write('----------------------\\n')\n",
    "file.write('Total Months: ' + str(totmo)+'\\n')\n",
    "file.write('Total: ' +'$'+ str(total) +'\\n')\n",
    "file.write('Average Change:'+ '$' + str(avgch) + '\\n')\n",
    "file.write('Greatest Increase in Profits: '+ '$' + str(maxamtdate) + ' ($' + str(maxamount) + ')' + '\\n' )\n",
    "file.write('Greatest Decrease in Profits: '+ '$' + str(minamtdate) + ' ($' + str(minchg)    + ')' + '\\n' )\n",
    "file.close() "
   ]
  }
 ],
 "metadata": {
  "kernelspec": {
   "display_name": "Python 3",
   "language": "python",
   "name": "python3"
  },
  "language_info": {
   "codemirror_mode": {
    "name": "ipython",
    "version": 3
   },
   "file_extension": ".py",
   "mimetype": "text/x-python",
   "name": "python",
   "nbconvert_exporter": "python",
   "pygments_lexer": "ipython3",
   "version": "3.7.1"
  }
 },
 "nbformat": 4,
 "nbformat_minor": 2
}
